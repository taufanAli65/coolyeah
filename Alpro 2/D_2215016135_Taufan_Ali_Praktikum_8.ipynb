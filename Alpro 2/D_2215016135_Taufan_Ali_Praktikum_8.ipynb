{
  "nbformat": 4,
  "nbformat_minor": 0,
  "metadata": {
    "colab": {
      "provenance": []
    },
    "kernelspec": {
      "name": "python3",
      "display_name": "Python 3"
    },
    "language_info": {
      "name": "python"
    }
  },
  "cells": [
    {
      "cell_type": "code",
      "execution_count": null,
      "metadata": {
        "id": "yXKi9uoogYPM"
      },
      "outputs": [],
      "source": [
        "def fib(n) :\n",
        "  if n==0 :\n",
        "    return 0\n",
        "  elif n==1 :\n",
        "    return 1\n",
        "  else :\n",
        "    return (fib(n-1)+fib(n-2))"
      ]
    },
    {
      "cell_type": "code",
      "source": [
        "fib(7)"
      ],
      "metadata": {
        "colab": {
          "base_uri": "https://localhost:8080/"
        },
        "id": "EGi2fY2YiFVq",
        "outputId": "deca5c1f-6a5c-4517-db16-3fd8a9387dfc"
      },
      "execution_count": null,
      "outputs": [
        {
          "output_type": "execute_result",
          "data": {
            "text/plain": [
              "13"
            ]
          },
          "metadata": {},
          "execution_count": 3
        }
      ]
    },
    {
      "cell_type": "code",
      "source": [
        "def fibonacci(n):\n",
        "    if n == 0:\n",
        "        return 0\n",
        "    elif n == 1:\n",
        "        return 1\n",
        "\n",
        "    fib_prev = 0\n",
        "    fib_curr = 1\n",
        "\n",
        "    for _ in range(2, n + 1):\n",
        "        fib_next = fib_prev + fib_curr\n",
        "        fib_prev = fib_curr\n",
        "        fib_curr = fib_next\n",
        "\n",
        "    return fib_curr"
      ],
      "metadata": {
        "id": "1K1EF94vrW_k"
      },
      "execution_count": null,
      "outputs": []
    },
    {
      "cell_type": "code",
      "source": [
        "fibonacci(7)"
      ],
      "metadata": {
        "colab": {
          "base_uri": "https://localhost:8080/"
        },
        "id": "XLNAxTdts9hd",
        "outputId": "14668d6d-7ecb-4c63-cc60-1ae06a57140a"
      },
      "execution_count": null,
      "outputs": [
        {
          "output_type": "execute_result",
          "data": {
            "text/plain": [
              "13"
            ]
          },
          "metadata": {},
          "execution_count": 17
        }
      ]
    },
    {
      "cell_type": "code",
      "source": [
        "def factorial(n) :\n",
        "  if n == 0 :\n",
        "    return 1\n",
        "  else :\n",
        "    return n * factorial(n-1)"
      ],
      "metadata": {
        "id": "6lHU0kPxkHmC"
      },
      "execution_count": null,
      "outputs": []
    },
    {
      "cell_type": "code",
      "source": [
        "print(factorial(4))"
      ],
      "metadata": {
        "colab": {
          "base_uri": "https://localhost:8080/"
        },
        "id": "aS8LJmunkUgP",
        "outputId": "45ef4065-f326-4d24-8578-133676c4a1d0"
      },
      "execution_count": null,
      "outputs": [
        {
          "output_type": "stream",
          "name": "stdout",
          "text": [
            "24\n"
          ]
        }
      ]
    },
    {
      "cell_type": "markdown",
      "source": [
        "Analisis rekursif factorial:\n",
        "Kasus penyetop (= nilai awal) n = 0 atau n = 1 yaitu\n",
        "bernilai konstan 1\n",
        "Kasus rekursif :\n",
        "faktorial (n) =n * faktorial (n-1)"
      ],
      "metadata": {
        "id": "OvV2dE9OpfwQ"
      }
    },
    {
      "cell_type": "code",
      "source": [
        "#program factorial mengguakan while loop\n",
        "n = 4\n",
        "factorial = n\n",
        "\n",
        "while n > 2 :\n",
        "  n -= 1\n",
        "  factorial = factorial*n\n",
        "print(factorial)"
      ],
      "metadata": {
        "colab": {
          "base_uri": "https://localhost:8080/"
        },
        "id": "JZfLJzTjnry4",
        "outputId": "0b104a1e-faef-47d9-8a32-ebf1f5f4655a"
      },
      "execution_count": null,
      "outputs": [
        {
          "output_type": "stream",
          "name": "stdout",
          "text": [
            "24\n"
          ]
        }
      ]
    }
  ]
}